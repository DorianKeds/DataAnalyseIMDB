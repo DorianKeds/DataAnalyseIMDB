{
  "nbformat": 4,
  "nbformat_minor": 0,
  "metadata": {
    "colab": {
      "name": "IMDB_Data_Analyse.ipynb",
      "provenance": [],
      "collapsed_sections": []
    },
    "kernelspec": {
      "name": "python3",
      "display_name": "Python 3"
    },
    "language_info": {
      "name": "python"
    }
  },
  "cells": [
    {
      "cell_type": "code",
      "metadata": {
        "id": "mamls4O-Mc61"
      },
      "source": [
        "import pandas as pd\n",
        "import numpy as np\n",
        "import matplotlib.pyplot as plt"
      ],
      "execution_count": null,
      "outputs": []
    },
    {
      "cell_type": "code",
      "metadata": {
        "id": "STm2-lcxMmRg"
      },
      "source": [
        "df1 = pd.raed_csv('imdb_dataset.csv')"
      ],
      "execution_count": null,
      "outputs": []
    },
    {
      "cell_type": "markdown",
      "metadata": {
        "id": "OEz0Usw3MwwR"
      },
      "source": [
        "# II - Data Cleaning"
      ]
    },
    {
      "cell_type": "code",
      "metadata": {
        "id": "TT3W6hwxMmTt"
      },
      "source": [
        "df1.head()"
      ],
      "execution_count": null,
      "outputs": []
    },
    {
      "cell_type": "code",
      "metadata": {
        "id": "meuopcvVMmVj"
      },
      "source": [
        "df1.shape"
      ],
      "execution_count": null,
      "outputs": []
    },
    {
      "cell_type": "code",
      "metadata": {
        "id": "lJ30iLUAMmXY"
      },
      "source": [
        "df1.info()"
      ],
      "execution_count": null,
      "outputs": []
    },
    {
      "cell_type": "code",
      "metadata": {
        "id": "s-pfZIM9MmZV"
      },
      "source": [
        "df1['Budget_int'] = df.Budget\n",
        "df1['Budget_int']= df1.Budget_int.str.replace('Aspect Ratio: 1.66 : 1','0')\n",
        "df1['Budget_int']= df1.Budget_int.str.replace('Aspect Ratio: 1.85 : 1' ,'0')\n",
        "df1['Budget_int']= df1.Budget_int.str.replace( 'Aspect Ratio: 2.35 : 1' ,'0')\n",
        "df1['Budget_int']= df1.Budget_int.str.replace( 'Runtime:\\n115 min' ,'0')\n",
        "df1['Budget_int']= df1.Budget_int.str.replace( 'Runtime:\\n133 min' ,'0')\n",
        "df1['Budget_int']= df1.Budget_int.str.replace( 'Runtime:\\n141 min' ,'0')\n",
        "df1['Budget_int']= df1.Budget_int.str.replace( 'Runtime:\\n147 min' ,'0')\n",
        "df1['Budget_int']= df1.Budget_int.str.replace( 'Runtime:\\n178 min' ,'0')\n",
        "df1['Budget_int']= df1.Budget_int.str.replace( 'Show more on\\n  IMDbPro »' ,'0')\n",
        "df1['Budget_int']= df1.Budget_int.str.replace( 'Sound Mix:\\nDolby Atmos' ,'0')\n",
        "df1['Budget_int']= df1.Budget_int.str.replace( 'Sound Mix:\\nMono\\n(35 mm prints)| Mono' ,'0')\n",
        "df1['Budget_int']= df1.Budget_int.str.replace( 'Color:\\nColor' ,'0')\n",
        "df1['Budget_int']= df1.Budget_int.str.replace( '\\n|  Black and White\\n(some sequences)' ,'0')\n",
        "df1['Budget_int']= df1.Budget_int.str.replace( 'XXX' ,'0')\n",
        "df1['Budget_int']= df1.Budget_int.str.replace( 'Production Co:\\n Government of West Bengal \\nSee more »' ,'0')\n",
        "df1['Budget_int']= df1.Budget_int.str.replace( 'Budget:' ,'')\n",
        "df1['Budget_int']= df1.Budget_int.str.replace( '$' ,'')\n",
        "df1['Budget_int']= df1.Budget_int.str.replace( '\\n' ,'')\n",
        "df1['Budget_int']= df1.Budget_int.str.replace( '            \\(estimated\\)' ,'')\n",
        "df1['Budget_int']= df1.Budget_int.str.replace( 'BRL' ,'')\n",
        "df1['Budget_int']= df1.Budget_int.str.replace( 'Cumulative Worldwide Gross: ' ,'')\n",
        "df1['Budget_int']= df1.Budget_int.str.replace( ',' ,'')\n",
        "df1['Budget_int']= df1.Budget_int.str.replace( 'Gross USA:' ,'')\n",
        "df1['Budget_int']= df1.Budget_int.str.replace( 'Opening Weekend USA:' ,'')\n",
        "df1['Budget_int']= df1.Budget_int.str.replace( '\\n27 May 2012' ,'')\n",
        "df1['Budget_int']= df1.Budget_int.str.replace( '\\n25 October 1998' ,'')\n",
        "df1['Budget_int']= df1.Budget_int.str.replace( '\\n10 July 1994' ,'')\n",
        "df1['Budget_int']= df1.Budget_int.str.replace( '\\n13 October 2019' ,'')\n",
        "df1['Budget_int']= df1.Budget_int.str.replace( '\\n22 September 2002' ,'')\n",
        "df1['Budget_int']= df1.Budget_int.str.replace( '\\n23 September 1990' ,'')\n",
        "df1['Budget_int']= df1.Budget_int.str.replace( 'July 2010' ,'')\n",
        "df1['Budget_int']= df1.Budget_int.str.replace( 'July 1994' ,'')\n",
        "df1['Budget_int']= df1.Budget_int.str.replace( 'September 1990' ,'')\n",
        "df1['Budget_int']= df1.Budget_int.str.replace( 'October 2019' ,'')\n",
        "df1['Budget_int']= df1.Budget_int.str.replace( 'September 2002' ,'')\n",
        "df1['Budget_int']= df1.Budget_int.str.replace( 'October 1998' ,'')\n",
        "df1['Budget_int']= df1.Budget_int.str.replace( 'Show more on0  IMDbPro\\xa0»' ,'0')\n",
        "df1['Budget_int']= df1.Budget_int.str.replace( ' ' ,'')\n",
        "df1['Budget_int']= df1.Budget_int.str.replace( 'SoundMix:0Mono0(35mmprints)|0' ,'')\n",
        "df1['Budget_int'] = pd.to_numeric(df1.Budget_int, errors='coerce', downcast='signed')\n",
        "df1['Budget_int'] = df1.Budget_int.fillna(0)\n",
        "df1.Budget_int = df1.Budget_int.astype('int')\n",
        "\n",
        "\n",
        "df1.Year = df1.Year.astype('int')\n",
        "df1.Note = df1.Note.astype('float')\n",
        "df1.Score = df1.Score.str.replace('XXX', '0')\n",
        "df1.Score = df1.Score.astype('int')\n",
        "\n",
        "df1['Cumul_Gross_WW_int'] = df1.Cumul_Gross_WW.astype('str')\n",
        "df1.Cumul_Gross_WW_int = df1.Cumul_Gross_WW_int.str.replace('Cumulative Worldwide Gross: ','')\n",
        "df1.Cumul_Gross_WW_int = df1.Cumul_Gross_WW_int.str.replace('$','')\n",
        "df1.Cumul_Gross_WW_int = df1.Cumul_Gross_WW_int.str.replace('XXX','0')\n",
        "df1.Cumul_Gross_WW_int = df1.Cumul_Gross_WW_int.str.replace(',','')\n",
        "df1['Cumul_Gross_WW_int'] = pd.to_numeric(df1.Cumul_Gross_WW_int, errors='coerce', downcast='integer')\n",
        "df1.Cumul_Gross_WW_int = df1.Cumul_Gross_WW_int.fillna(0)\n",
        "df1.Cumul_Gross_WW_int = df1.Cumul_Gross_WW_int.astype('int')"
      ],
      "execution_count": null,
      "outputs": []
    },
    {
      "cell_type": "code",
      "metadata": {
        "id": "Iq9aPR7JMmbp"
      },
      "source": [
        "df1.info()"
      ],
      "execution_count": null,
      "outputs": []
    },
    {
      "cell_type": "code",
      "metadata": {
        "id": "-FaPrPc0M6W9"
      },
      "source": [
        "df1.describe()"
      ],
      "execution_count": null,
      "outputs": []
    },
    {
      "cell_type": "code",
      "metadata": {
        "id": "M7BPLcJjM6ZM"
      },
      "source": [
        "df1.head()"
      ],
      "execution_count": null,
      "outputs": []
    },
    {
      "cell_type": "markdown",
      "metadata": {
        "id": "zgSxWvygNDZK"
      },
      "source": [
        "## 1. Distribution des films par catégorie"
      ]
    },
    {
      "cell_type": "code",
      "metadata": {
        "id": "M7haMlrlM6dD"
      },
      "source": [
        "by_filmtype = df1.groupby('Film_Type')['Film_Name'].count()\n",
        "by_filmtype.plot(kind = 'bar')"
      ],
      "execution_count": null,
      "outputs": []
    },
    {
      "cell_type": "markdown",
      "metadata": {
        "id": "IGB-iKY2NKlO"
      },
      "source": [
        "## 2. Top 50 des budgets des films"
      ]
    },
    {
      "cell_type": "code",
      "metadata": {
        "id": "3UR0HfORM6en"
      },
      "source": [
        "top50bud = df1.Budget_int.nlargest(50)\n",
        "top50bud.head(5).plot(kind = 'bar')"
      ],
      "execution_count": null,
      "outputs": []
    },
    {
      "cell_type": "markdown",
      "metadata": {
        "id": "iS0AuQb1NPHq"
      },
      "source": [
        "## 3. Nombres de films sortie par décennie"
      ]
    },
    {
      "cell_type": "code",
      "metadata": {
        "id": "AOZwq28eM6gz"
      },
      "source": [
        "decade = df1.groupby(df1.Year//10*10)['Film_Name'].count()\n",
        "decade.plot(kind = 'bar')"
      ],
      "execution_count": null,
      "outputs": []
    },
    {
      "cell_type": "markdown",
      "metadata": {
        "id": "kVRXmzyaNTli"
      },
      "source": [
        "## 4. Top 20 films ayant générés le plus de revenu, le moins de revenu.\n"
      ]
    },
    {
      "cell_type": "code",
      "metadata": {
        "id": "QySNJwEWM6iy"
      },
      "source": [
        "top20p = df1.nlargest(20, 'Cumul_Gross_WW_int')\n",
        "top20p.filter(items=['Film_Name','Cumul_Gross_WW_int'])"
      ],
      "execution_count": null,
      "outputs": []
    },
    {
      "cell_type": "code",
      "metadata": {
        "id": "71XdgVYuM6ko"
      },
      "source": [
        "top20m = df1.nsmallest(20, 'Cumul_Gross_WW_int')\n",
        "top20m.filter(items=['Film_Name','Cumul_Gross_WW_int'])"
      ],
      "execution_count": null,
      "outputs": []
    },
    {
      "cell_type": "markdown",
      "metadata": {
        "id": "PA8ybjm3NZA1"
      },
      "source": [
        "## 5. Analyse de la popularité des films en fonction de leurs budgets"
      ]
    },
    {
      "cell_type": "code",
      "metadata": {
        "id": "ELCRRwblM6nO"
      },
      "source": [
        "by_budget = df1.groupby('Budget_int')['Score'].mean().nlargest(10)\n",
        "by_budget.plot(kind = 'bar')"
      ],
      "execution_count": null,
      "outputs": []
    },
    {
      "cell_type": "markdown",
      "metadata": {
        "id": "7RQeK3S8Nc9J"
      },
      "source": [
        "## 6. Distribution des revenus générés par genre de film"
      ]
    },
    {
      "cell_type": "code",
      "metadata": {
        "id": "gGFsFuF0M6px"
      },
      "source": [
        "gross_bytype = df1.groupby('Film_Type')['Cumul_Gross_WW_int'].sum()\n",
        "gross_bytype.plot(kind = 'bar')"
      ],
      "execution_count": null,
      "outputs": []
    },
    {
      "cell_type": "markdown",
      "metadata": {
        "id": "SGEgHxQNNhap"
      },
      "source": [
        "##7. Top 10 des films par retour sur investissement"
      ]
    },
    {
      "cell_type": "code",
      "metadata": {
        "id": "Md-20JhlM6rv"
      },
      "source": [
        "df1['Invest'] = df1['Cumul_Gross_WW_int'] - df1['Budget_int']\n",
        "top10 = df1.nlargest(10, 'Invest')\n",
        "top10.filter(items = ['Film_Name', 'Invest']).plot(kind = 'bar')"
      ],
      "execution_count": null,
      "outputs": []
    },
    {
      "cell_type": "markdown",
      "metadata": {
        "id": "LJyi_bNkNjjO"
      },
      "source": [
        "## 8. Note moyenne par année de sortie de film"
      ]
    },
    {
      "cell_type": "code",
      "metadata": {
        "id": "cL4NnmRvMmeO"
      },
      "source": [
        "note_byyear = df1.groupby('Year')['Note'].mean()\n",
        "note_byyear.plot()"
      ],
      "execution_count": null,
      "outputs": []
    }
  ]
}